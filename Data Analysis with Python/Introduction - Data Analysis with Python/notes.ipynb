{
 "cells": [
  {
   "cell_type": "markdown",
   "metadata": {},
   "source": [
    "# Data Analysis with Python:\n",
    "\n",
    "**Important Links:**\n",
    "\n",
    "Video Link: https://www.youtube.com/watch?v=VJrP2FUzKP0\n",
    "\n",
    "Slide Deck: https://docs.google.com/presentation/d/1cUIt8b2ySz-85_ykfeuuWsurccwTAuFPn782pZBzFsU/edit#slide=id.p"
   ]
  },
  {
   "cell_type": "markdown",
   "metadata": {},
   "source": [
    "# What is Data Analysis?\n",
    "\"A process of inspecting, cleansing, transforming and modelling data with the goal of discovering useful information, informing conclusion and supporting decision-making\"\n",
    "    - Wikipedia\n"
   ]
  },
  {
   "cell_type": "markdown",
   "metadata": {},
   "source": [
    "# What tools are there for Data Analysis?\n",
    "\n",
    "There are many different options for Data Analysis, with there being a split between programming languages and tools:\n",
    "\n",
    "**Auto-managed closed tools**:\n",
    "* Qlik: https://www.qlik.org/\n",
    "* Tableau: https://www.tableau.com/\n",
    "* Looker: https://looker.com/\n",
    "* Zoho Analytics: https://www.zoho.com/analytics/\n",
    "\n",
    "**Programming Languages**:\n",
    "* Python: https://www.python.org/\n",
    "* R: https://www.r-project.org/\n",
    "* Julia: https://julialang.org/\n",
    "\n",
    "### Advantages and Disadvantages for Programming Languages and Tools:\n",
    "\n",
    "**Auto-managed closed tools**:\n",
    "* ***Pros***:\n",
    "    * Easy to learn\n",
    "* ***Cons***:\n",
    "    * Closed Source\n",
    "    * Expensive\n",
    "    * Limited in capability\n",
    "\n",
    "**Programming Languages**:\n",
    "* ***Pros***:\n",
    "    * Open Source\n",
    "    * Free\n",
    "* ***Cons***:\n",
    "    * Extremely powerful (may be overwhelming)\n",
    "    * Steep learning curve"
   ]
  },
  {
   "cell_type": "markdown",
   "metadata": {},
   "source": [
    "# Why Python?\n",
    "Why choose Python over R or Julia?\n",
    "\n",
    "* Very simple and intuitive to learn\n",
    "* Powerful libraries (allows for usage in many fields and niches)\n",
    "* Free and Open Source\n",
    "* Lots of documentation"
   ]
  }
 ],
 "metadata": {
  "language_info": {
   "name": "python"
  },
  "orig_nbformat": 4
 },
 "nbformat": 4,
 "nbformat_minor": 2
}
