{
 "cells": [
  {
   "cell_type": "markdown",
   "metadata": {},
   "source": [
    "# Data Analysis with Python:\n",
    "\n",
    "**Important Links:**\n",
    "\n",
    "Video Link: https://www.youtube.com/watch?v=VJrP2FUzKP0\n",
    "\n",
    "Slide Deck: https://docs.google.com/presentation/d/1cUIt8b2ySz-85_ykfeuuWsurccwTAuFPn782pZBzFsU/edit#slide=id.p"
   ]
  },
  {
   "cell_type": "markdown",
   "metadata": {},
   "source": [
    "# What is Data Analysis?\n",
    "\"A process of inspecting, cleansing, transforming and modelling data with the goal of discovering useful information, informing conclusion and supporting decision-making\"\n",
    "    - Wikipedia\n"
   ]
  },
  {
   "cell_type": "markdown",
   "metadata": {},
   "source": [
    "# What tools are there for Data Analysis?\n",
    "\n",
    "There are many different options for Data Analysis, with there being a split between programming languages and tools:\n",
    "\n",
    "**Auto-managed closed tools**:\n",
    "* Qlik: https://www.qlik.org/\n",
    "* Tableau: https://www.tableau.com/\n",
    "* Looker: https://looker.com/\n",
    "* Zoho Analytics: https://www.zoho.com/analytics/\n",
    "\n",
    "**Programming Languages**:\n",
    "* Python: https://www.python.org/\n",
    "* R: https://www.r-project.org/\n",
    "* Julia: https://julialang.org/\n",
    "\n",
    "### Advantages and Disadvantages for Programming Languages and Tools:\n",
    "\n",
    "**Auto-managed closed tools**:\n",
    "* ***Pros***:\n",
    "    * Easy to learn\n",
    "* ***Cons***:\n",
    "    * Closed Source\n",
    "    * Expensive\n",
    "    * Limited in capability\n",
    "\n",
    "**Programming Languages**:\n",
    "* ***Pros***:\n",
    "    * Open Source\n",
    "    * Free\n",
    "* ***Cons***:\n",
    "    * Extremely powerful (may be overwhelming)\n",
    "    * Steep learning curve"
   ]
  },
  {
   "cell_type": "markdown",
   "metadata": {},
   "source": [
    "# Why Python?\n",
    "Why choose Python over R or Julia?\n",
    "\n",
    "* Very simple and intuitive to learn\n",
    "* Powerful libraries (allows for usage in many fields and niches)\n",
    "* Free and Open Source\n",
    "* Lots of documentation"
   ]
  },
  {
   "cell_type": "markdown",
   "metadata": {},
   "source": [
    "# When should you use R?\n",
    "Unfortunately, Python isn't always the answer...\n",
    "\n",
    "* When you need to use the tools from R studio\n",
    "* When dealing with advanced statistical methods\n",
    "* When extreme performance is needed"
   ]
  },
  {
   "cell_type": "markdown",
   "metadata": {},
   "source": [
    "# The Data Analysis Process:\n",
    "\n",
    "* **Data Extraction**:\n",
    "    * SQL\n",
    "    * Scraping\n",
    "    * File Formats:\n",
    "        * CSV\n",
    "        * JSON\n",
    "        * XML\n",
    "    * Consulting APIs\n",
    "    * Buying Data\n",
    "    * Distributed Databases\n",
    "\n",
    "<br>\n",
    "\n",
    "* **Data Cleaning**:\n",
    "    * Missing values and empty data\n",
    "    * Data imputation\n",
    "    * Incorrect Types\n",
    "    * Incorrect or invalid values\n",
    "    * Outliers and other non-relevant data\n",
    "    * Statistical sanitization\n",
    "\n",
    "<br>\n",
    "\n",
    "* **Data Wrangling**:\n",
    "    * Hierarchical Data\n",
    "    * Handling categorical data\n",
    "    * Reshaping and transforming structures\n",
    "    * Indexing data for quick access\n",
    "    * Merging, combining and joining data\n",
    "\n",
    "<br>\n",
    "\n",
    "* **Analysis**:\n",
    "    * Exploration\n",
    "    * Building statistical models\n",
    "    * Visualisation and representations\n",
    "    * Correlation vs Causation analysis\n",
    "    * Hypothesis testing\n",
    "    * Statistical Analysis\n",
    "    * Reporting\n",
    "\n",
    "<br>\n",
    "\n",
    "* **Action**:\n",
    "    * Building Machine Learning Models\n",
    "    * Feature Engineering\n",
    "    * Moving Machine Learning into production\n",
    "    * Building ETL pipelines\n",
    "    * Live dashboard and reporting\n",
    "    * Decision making and real life tests"
   ]
  },
  {
   "cell_type": "markdown",
   "metadata": {},
   "source": [
    "# Python and PyData Ecosystem:\n",
    "The libraries that will be used throughout this course:\n",
    "\n",
    "* **Pandas**\n",
    "    * Data Analysis toolkit\n",
    "* **Matplotlib**\n",
    "    * Foundational Library for visualisations, any other libraries are built on top\n",
    "* **Numpy**\n",
    "    * Numeric library that serves as the foundation of all calculations in Python\n",
    "* **Seaborn**\n",
    "    * Statistical visualisation build on top of matplotlib\n",
    "* **Scipy**\n",
    "    * Advanced scientific computing, including functions for optimisation, linear algebra, image procession, etc.\n",
    "* **Scikit-Learn**\n",
    "    * Machine Learning library"
   ]
  }
 ],
 "metadata": {
  "language_info": {
   "name": "python"
  },
  "orig_nbformat": 4
 },
 "nbformat": 4,
 "nbformat_minor": 2
}
