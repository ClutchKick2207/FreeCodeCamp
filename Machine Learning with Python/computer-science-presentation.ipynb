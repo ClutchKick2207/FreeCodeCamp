{
 "cells": [
  {
   "cell_type": "markdown",
   "metadata": {},
   "source": [
    "# Everything you need to know about AI\n",
    "By Ariz Ahmed\n",
    "\n",
    "Within this presentation, I'll give a taster into the world of AI, and focus of 'Machine Learning' with code samples, and an interactive segment to finish!"
   ]
  },
  {
   "cell_type": "markdown",
   "metadata": {},
   "source": [
    "### What am I using to present?\n",
    "The presentation method which I am using is called a 'Jupyter Notebook'. \n",
    "\n",
    "I love using Jupyter Notebooks in and out of work as an effective way to explain code, and more complex changes that are being implemented, as it allows for:\n",
    "* Splitting up text into digestable chunks (and uses MarkDown)\n",
    "* Showing snippets of code (in a variety of languages)\n",
    "* Showing the output of the code\n",
    "* Being incredibly lightweight\n",
    "\n",
    "It is because of all these positive features (plus being free and open source!) that Jupyter Notebooks are the industry standard form of presenting and working on Machine Learning and Data Science projects."
   ]
  },
  {
   "cell_type": "code",
   "execution_count": null,
   "metadata": {},
   "outputs": [],
   "source": [
    "#!/bin/python\n",
    "import time\n",
    "\n",
    "\n",
    "#Being able to seemlessly transition between code and text allows for better presentation!\n",
    "y = 0\n",
    "x = 0\n",
    "\n",
    "while x < 10:\n",
    "    print (\"Mr. Wilson is cool\")\n",
    "    time.sleep(0.1)\n",
    "    x = x + 1\n",
    "\n",
    "while x < 20:\n",
    "    print(\"Now I'll count to ten!\")\n",
    "    print(y)\n",
    "    time.sleep(0.1)\n",
    "    y = y + 1"
   ]
  },
  {
   "cell_type": "markdown",
   "metadata": {},
   "source": [
    "* Showing the output of the code\n",
    "* Being incredibly lightweight\n",
    "\n",
    "It is because of all these positive features (plus being free and open source!) that Jupyter Notebooks are the industry standard form of presenting and working on Machine Learning and Data Science projects."
   ]
  },
  {
   "cell_type": "markdown",
   "metadata": {},
   "source": [
    "### What is 'Artifical Intelligence'?\n",
    "Artificial intelligene refers to:\n",
    "* *\"The effort to automate intellectual tasks, normally performed by humans\"*\n",
    "\n",
    "AI in it's infancy consisted of a large set of pre-defined 'rules'. These rules are able to define what is and isn't possible (therefore no actual learning).\n",
    "\n",
    "Examples of this 'Classic AI' approach includes AI that is used in common games, such as:\n",
    "* Chess\n",
    "* Tic-Tac-Toe\n",
    "* etc.\n",
    "\n",
    "***'Very good'*** AI would therefore represent a ***'very good'*** set of rules, being more exhaustive and taking into account more situations. Adjusting the length and depth of the rules would therefore dictate how simple/complex the AI would become.\n",
    "\n"
   ]
  }
 ],
 "metadata": {
  "interpreter": {
   "hash": "e7370f93d1d0cde622a1f8e1c04877d8463912d04d973331ad4851f04de6915a"
  },
  "kernelspec": {
   "display_name": "Python 3.10.2 64-bit",
   "language": "python",
   "name": "python3"
  },
  "language_info": {
   "name": "python",
   "version": "3.10.2"
  },
  "orig_nbformat": 4
 },
 "nbformat": 4,
 "nbformat_minor": 2
}
