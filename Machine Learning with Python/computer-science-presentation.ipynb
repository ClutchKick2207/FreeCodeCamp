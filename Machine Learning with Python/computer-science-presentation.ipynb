{
 "cells": [
  {
   "cell_type": "markdown",
   "metadata": {},
   "source": [
    "# Everything you need to know about AI\n",
    "By Ariz Ahmed\n",
    "\n",
    "Within this presentation, I'll give a taster into the world of AI, and focus of 'Machine Learning' with code samples, and an interactive segment to finish!"
   ]
  },
  {
   "cell_type": "markdown",
   "metadata": {},
   "source": [
    "### What am I using to present?\n",
    "The presentation method which I am using is called a ***'Jupyter Notebook'***. \n",
    "\n",
    "I love using Jupyter Notebooks in and out of work as an effective way to explain code, and more complex changes that are being implemented, as it allows for:\n",
    "* Splitting up text into digestable chunks (and uses MarkDown, which would be familiar to you if you use programs such as Notion)\n",
    "* Showing snippets of code (in a variety of languages, but I'll just be using Python in this presentation)\n",
    "* Showing the output of the code in a digestable format\n",
    "* Being incredibly lightweight and easy to use\n",
    "\n",
    "It is because of all these positive features (plus being free and open source!) that Jupyter Notebooks are the industry standard form of presenting and working on Machine Learning and Data Science projects."
   ]
  },
  {
   "cell_type": "code",
   "execution_count": 1,
   "metadata": {},
   "outputs": [
    {
     "name": "stdout",
     "output_type": "stream",
     "text": [
      "Mr Wilson is the best!\n",
      "415\n",
      "0.2\n",
      "83.0\n"
     ]
    }
   ],
   "source": [
    "#!/bin/python\n",
    "import time\n",
    "\n",
    "\n",
    "#Being able to seemlessly transition between code and text allows for better presentation!\n",
    "y = 5\n",
    "x = 83\n",
    "\n",
    "print('Mr Wilson is the best!')\n",
    "\n",
    "operationOne = y*x\n",
    "print(operationOne)\n",
    "\n",
    "operationTwo = x/operationOne\n",
    "print(operationTwo)\n",
    "\n",
    "operationThree = operationOne*operationTwo\n",
    "print(operationThree)"
   ]
  },
  {
   "cell_type": "markdown",
   "metadata": {},
   "source": [
    "### What is 'Artifical Intelligence'?\n",
    "Artificial intelligene refers to:\n",
    "* *\"The effort to automate intellectual tasks, normally performed by humans\"*\n",
    "\n",
    "AI in it's infancy consisted of a large set of pre-defined 'rules'. These rules are able to define what is and isn't possible (therefore no actual learning).\n",
    "\n",
    "Examples of this 'Classic AI' approach includes AI that is used in common games, such as:\n",
    "* Chess\n",
    "* Tic-Tac-Toe\n",
    "* etc.\n",
    "\n",
    "***'Very good'*** AI would therefore represent a ***'very good'*** set of rules, being more exhaustive and taking into account more situations. Adjusting the length and depth of the rules would therefore dictate how simple/complex the AI would become.\n",
    "\n",
    "***A real world example: Pacman's Ghosts***\n",
    "\n",
    "These ghosts are every simple in how they are programed, with it pre-programmed to find the shortest possible path to 'Pacman' in order to catch it, although it involves a character with slower movement speed.\n",
    "\n",
    "AI has many different layers and complexities that you are able to go into, with contemporary AI including the likes of ***Machine Learning*** and ***Neural Networks***."
   ]
  },
  {
   "cell_type": "markdown",
   "metadata": {},
   "source": [
    "### What is 'Machine Learning'?\n",
    "\n",
    "***'Machine Learning*** is a field which has garnered a lot of hype over recent years, and is quickly becoming a popular field. I'll give a brief overview here:\n",
    "\n",
    "Machine Learning refers to:\n",
    "* \"A method, whereby a program is able to *'create it's own rules'* and develop over time and training into something stronger than what any human could hard-code\"\n",
    "\n",
    "***Machine Learning*** is able to take an *'input'*, and the desired outcome to create different rules. This process is referred to as the *'training stage'*. \n",
    "\n",
    "***Training*** refers the process of a Machine Learning model getting sample data, and the expected values in order to figure out the best way to solve the problem, as accurately as possible. Due to the open ended nature of these rules (as the program makes them itself), Machine Learning models do not have a 100% accuracy.\n",
    "\n",
    "Another very commonly referred to subsection of AI is ***'Deep Learning/Neural Networks'***\n"
   ]
  },
  {
   "cell_type": "markdown",
   "metadata": {},
   "source": [
    "### What is Deep Learning/Neural Networks?\n",
    "\n",
    "***'Deep Learning'*** would have to be the most hyped section of AI, with it also posing as the most complex. This is a newly emerging field, with the potential to allow for more complex tasks to be solved.\n",
    "\n",
    "Deep Learning/Neural Networks refers to:\n",
    "* \"A form of Machine Learning, that uses a layered representation of Data\"\n",
    "\n",
    "Deep Learning relies on different *'nodes'* (often referred to as '*neurons*'), which all hold a unique, partially computed state, with the basic logic and data flow between these nodes being regulated via *'weightings'*. This allows for simple logic between nodes, using things such as *'if'* gates, *'and'* gates and *'or'* gates to choose if it will progress through the layer. \n",
    "\n",
    "Changing and adjusting these weightings allows for a neural network to optimise the output and be more accurate.\n",
    "\n",
    "Nodes more specifically changes the data with a set of pre-defined rules, of which can also be adjusted in tandem with the weightings between them. A simple way to visualise this would be to look at it as a large network of 'AI' models communcating with each other.\n",
    "\n",
    "All of this processing occurs within a set of *'hidden layers'*, with inputs coming in through an *'input layer'*, and being collated into a set of meaningful data and ouputed via an *'output layer'*.\n",
    "\n",
    "One confusion (which I would like to make clear within this presentation) is that Neural Networks ***ARE NOT MODELLED AFTER THE BRAIN***. They happen to use similar terminology, although to the best of our knowledge, this is not how the human brain functions."
   ]
  },
  {
   "cell_type": "markdown",
   "metadata": {},
   "source": [
    "### What is Data?\n",
    "Data is incredibly important, and is used in *every* form of AI, and is the main thing used for analysis.\n",
    "\n",
    "Here's an example of *'data'*, and how it can be manipulated (with some extra terminology specific to Machine Learning and Deep Learning):\n",
    "\n",
    "|Midterm 1|Midterm 2|Final|\n",
    "|---------|---------|-----|\n",
    "|70       |80       |77   |\n",
    "|60       |90       |84   |\n",
    "|40       |50       |38   |\n",
    "\n",
    "\"If I was given a student's Midterm 1 grade and their Final grade, how could I predict their Midterm 2 grade?\"\n",
    "*  Any input information given is referred to as a \"***feature***\"\n",
    "    * In this example, the features are the **Midterm 1** and **Final** datasets\n",
    "* Any information that will be predicted is referred to as a \"***Label***\" \n",
    "  * In this example, the label will be the **Midterm 2** dataset.\n",
    "* i.e. when feeding a model '***features***' it will output a '***label***' \n",
    "\n",
    "<br>\n",
    "\n",
    "Most machine learning models require a large sample size, as it allows for the model to create the most efficient rules possible.\n",
    "  * This means that the longer you let a model \"train\", the more efficient and more accurate it becomes (although the law of diminishing returns is very evident here).\n",
    "  * To test a model with the above dataset, you would remove the '***Midterm 2***' dataset, and see how accurate and reliable the output is.\n",
    "  * If you are feeding incorrect data, it can cause a large amoutn of mistakes, as it uses this data to learn more about what is should do."
   ]
  },
  {
   "cell_type": "markdown",
   "metadata": {},
   "source": [
    "Now to some examples of AI, and a deeper dive into Machine Learning and Deep Learning"
   ]
  },
  {
   "cell_type": "markdown",
   "metadata": {},
   "source": [
    "### What is TensorFlow?\n",
    "\n",
    "TensorFlow is what I will be demonstrating with, and it is a framework developed by Google in order to make different kinds of AI. This framework is completely free and open source, and allows for the development of custom models, and those provided by a third party."
   ]
  },
  {
   "cell_type": "markdown",
   "metadata": {},
   "source": [
    "### TensorFlow Core Learning Algorithms:\n",
    "\n",
    "There are 4 main learning algorithms that are a part of TensorFlow, these are:\n",
    "\n",
    "* Linear Regression\n",
    "* Classification\n",
    "* Clustering\n",
    "* Hidden Markov Models\n",
    "\n",
    "Most Business and Application implementations of Machine Learning use very basic Machine Learning models, as even these very simple models are capable of doing some very powerful things.\n",
    "\n",
    "These fundamental/'*core*' Machine Learning models can be used in almost all basic applications."
   ]
  },
  {
   "cell_type": "markdown",
   "metadata": {},
   "source": [
    "### Linear Regression:\n",
    "\"One of the most basic forms of Machine Learning, and is used to predict numerical values\"\n",
    "\n",
    "\"Line of best fit refers to a line through a scatter plot of data points that best expresses the relationship between those points\"\n",
    "\n",
    "**Project:**\n",
    "In this presentation we'll be using Linear Regression to predict the survival rate of passengers from the Titanic\n",
    "* This uses https://www.tensorflow.org/tutorials/estimator/linear heavily"
   ]
  },
  {
   "cell_type": "markdown",
   "metadata": {},
   "source": [
    "### How Linear Regression Works:\n",
    "Linear Regression refers to a way of calculating a 'line of best fit'. If data-points are related linearly, you are able to create a line of best fit, and predict future values.\n",
    "\n",
    "**Here is an example**:"
   ]
  },
  {
   "cell_type": "code",
   "execution_count": 2,
   "metadata": {},
   "outputs": [
    {
     "data": {
      "text/plain": [
       "(0.0, 6.0, 0.0, 20.0)"
      ]
     },
     "execution_count": 2,
     "metadata": {},
     "output_type": "execute_result"
    },
    {
     "data": {
      "image/png": "[encoded data removed]",
      "text/plain": [
       "<Figure size 432x288 with 1 Axes>"
      ]
     },
     "metadata": {
      "needs_background": "light"
     },
     "output_type": "display_data"
    }
   ],
   "source": [
    "import matplotlib.pyplot as plt\n",
    "import numpy as np\n",
    "\n",
    "#making a simple dataset:\n",
    "\n",
    "x = [1, 2, 2.5, 3, 4]\n",
    "y = [1, 4, 7, 9, 15]\n",
    "\n",
    "plt.plot(x, y, \"ro\")\n",
    "plt.axis([0, 6, 0, 20])"
   ]
  },
  {
   "cell_type": "markdown",
   "metadata": {},
   "source": [
    "From this graph, it is evident that the dataset has a linear correspondance, and could therefore benefit from Linear Regression to predict future values.\n",
    "\n",
    "In this example, this will only use one input variable, as it is 2 dimensional, although in larger datasets, it will requite a lot more variables and inputs.\n",
    "\n",
    "An equation for a line in 2d is: \n",
    "\n",
    "$$y=mx+c$$\n",
    "\n",
    "Here is an example of a line of best fit for the above graph:"
   ]
  },
  {
   "cell_type": "code",
   "execution_count": null,
   "metadata": {},
   "outputs": [],
   "source": [
    "import matplotlib.pyplot as plt\n",
    "import numpy as np\n",
    "\n",
    "#making a simple dataset:\n",
    "\n",
    "x = [1, 2, 2.5, 3, 4]\n",
    "y = [1, 4, 7, 9, 15]\n",
    "\n",
    "plt.plot(x, y, \"ro\")\n",
    "plt.axis([0, 6, 0, 20])\n",
    "#Original dataset for convenience\n",
    "\n",
    "plt.plot(np.unique(x), np.poly1d(np.polyfit(x, y, 1))(np.unique(x)))\n",
    "#Linear regression example\n",
    "\n",
    "plt.show"
   ]
  }
 ],
 "metadata": {
  "interpreter": {
   "hash": "e7370f93d1d0cde622a1f8e1c04877d8463912d04d973331ad4851f04de6915a"
  },
  "kernelspec": {
   "display_name": "Python 3.10.2 64-bit",
   "language": "python",
   "name": "python3"
  },
  "language_info": {
   "codemirror_mode": {
    "name": "ipython",
    "version": 3
   },
   "file_extension": ".py",
   "mimetype": "text/x-python",
   "name": "python",
   "nbconvert_exporter": "python",
   "pygments_lexer": "ipython3",
   "version": "3.10.2"
  },
  "orig_nbformat": 4
 },
 "nbformat": 4,
 "nbformat_minor": 2
}
