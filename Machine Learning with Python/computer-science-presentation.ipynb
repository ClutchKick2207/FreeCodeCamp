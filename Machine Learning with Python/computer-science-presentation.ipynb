{
 "cells": [
  {
   "cell_type": "markdown",
   "metadata": {},
   "source": [
    "# Everything you need to know about AI\n",
    "By Ariz Ahmed\n",
    "\n",
    "Within this presentation, I'll give a taster into the world of AI, and focus of 'Machine Learning' with code samples, and an interactive segment to finish!"
   ]
  },
  {
   "cell_type": "markdown",
   "metadata": {},
   "source": [
    "### What am I using to present?\n",
    "The presentation method which I am using is called a ***'Jupyter Notebook'***. \n",
    "\n",
    "I love using Jupyter Notebooks in and out of work as an effective way to explain code, and more complex changes that are being implemented, as it allows for:\n",
    "* Splitting up text into digestable chunks (and uses MarkDown, which would be familiar to you if you use programs such as Notion)\n",
    "* Showing snippets of code (in a variety of languages, but I'll just be using Python in this presentation)\n",
    "* Showing the output of the code in a digestable format\n",
    "* Being incredibly lightweight and easy to use\n",
    "\n",
    "It is because of all these positive features (plus being free and open source!) that Jupyter Notebooks are the industry standard form of presenting and working on Machine Learning and Data Science projects."
   ]
  },
  {
   "cell_type": "code",
   "execution_count": 4,
   "metadata": {},
   "outputs": [
    {
     "name": "stdout",
     "output_type": "stream",
     "text": [
      "Mr Wilson is the best!\n",
      "415\n",
      "0.2\n",
      "83.0\n"
     ]
    }
   ],
   "source": [
    "#!/bin/python\n",
    "import time\n",
    "\n",
    "\n",
    "#Being able to seemlessly transition between code and text allows for better presentation!\n",
    "y = 5\n",
    "x = 83\n",
    "\n",
    "print('Mr Wilson is the best!')\n",
    "\n",
    "operationOne = y*x\n",
    "print(operationOne)\n",
    "\n",
    "operationTwo = x/operationOne\n",
    "print(operationTwo)\n",
    "\n",
    "operationThree = operationOne*operationTwo\n",
    "print(operationThree)"
   ]
  },
  {
   "cell_type": "markdown",
   "metadata": {},
   "source": [
    "### What is 'Artifical Intelligence'?\n",
    "Artificial intelligene refers to:\n",
    "* *\"The effort to automate intellectual tasks, normally performed by humans\"*\n",
    "\n",
    "AI in it's infancy consisted of a large set of pre-defined 'rules'. These rules are able to define what is and isn't possible (therefore no actual learning).\n",
    "\n",
    "Examples of this 'Classic AI' approach includes AI that is used in common games, such as:\n",
    "* Chess\n",
    "* Tic-Tac-Toe\n",
    "* etc.\n",
    "\n",
    "***'Very good'*** AI would therefore represent a ***'very good'*** set of rules, being more exhaustive and taking into account more situations. Adjusting the length and depth of the rules would therefore dictate how simple/complex the AI would become.\n",
    "\n",
    "***A real world example: Pacman's Ghosts***\n",
    "\n",
    "These ghosts are every simple in how they are programed, with it pre-programmed to find the shortest possible path to 'Pacman' in order to catch it, although it involves a character with slower movement speed.\n",
    "\n",
    "AI has many different layers and complexities that you are able to go into, with contemporary AI including the likes of ***Machine Learning*** and ***Neural Networks***."
   ]
  },
  {
   "cell_type": "markdown",
   "metadata": {},
   "source": [
    "### What is 'Machine Learning'?\n",
    "\n",
    "***'Machine Learning*** is a field which has garnered a lot of hype over recent years, and is quickly becoming a popular field. I'll give a brief overview here:\n",
    "\n",
    "Machine Learning refers to:\n",
    "* \"A method, whereby a program is able to *'create it's own rules'* and develop over time and training into something stronger than what any human could hard-code\"\n",
    "\n",
    "***Machine Learning*** is able to take an *'input'*, and the desired outcome to create different rules. This process is referred to as the *'training stage'*. \n",
    "\n",
    "***Training*** refers the process of a Machine Learning model getting sample data, and the expected values in order to figure out the best way to solve the problem, as accurately as possible. Due to the open ended nature of these rules (as the program makes them itself), Machine Learning models do not have a 100% accuracy.\n",
    "\n",
    "Another very commonly referred to subsection of AI is ***'Deep Learning/Neural Networks'***\n"
   ]
  },
  {
   "cell_type": "markdown",
   "metadata": {},
   "source": [
    "### What is Deep Learning/Neural Networks?\n",
    "\n",
    "***'Deep Learning'*** would have to be the most hyped section of AI, with it also posing as the most complex. This is a newly emerging field, with the potential to allow for more complex tasks to be solved.\n",
    "\n",
    "Deep Learning/Neural Networks refers to:\n",
    "* \"A form of Machine Learning, that uses a layered representation of Data\"\n",
    "\n",
    "Deep Learning relies on different *'nodes'* (often referred to as '*neurons*'), which all hold a unique, partially computed state, with the basic logic and data flow between these nodes being regulated via *'weightings'*. This allows for simple logic between nodes, using things such as *'if'* gates, *'and'* gates and *'or'* gates to choose if it will progress through the layer. Changing and adjusting these weightings allows for a neural network to optimise the output and be more accurate."
   ]
  }
 ],
 "metadata": {
  "interpreter": {
   "hash": "e7370f93d1d0cde622a1f8e1c04877d8463912d04d973331ad4851f04de6915a"
  },
  "kernelspec": {
   "display_name": "Python 3.10.2 64-bit",
   "language": "python",
   "name": "python3"
  },
  "language_info": {
   "codemirror_mode": {
    "name": "ipython",
    "version": 3
   },
   "file_extension": ".py",
   "mimetype": "text/x-python",
   "name": "python",
   "nbconvert_exporter": "python",
   "pygments_lexer": "ipython3",
   "version": "3.10.2"
  },
  "orig_nbformat": 4
 },
 "nbformat": 4,
 "nbformat_minor": 2
}
