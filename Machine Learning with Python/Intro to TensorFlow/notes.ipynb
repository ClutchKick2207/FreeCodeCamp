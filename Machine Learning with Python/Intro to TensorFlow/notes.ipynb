{
 "cells": [
  {
   "cell_type": "markdown",
   "metadata": {},
   "source": [
    "# Tensors:\n",
    "  \"A '***tensor***' is a generalisation of vectors and matrices to potentially higher dimensions. Internally, TensorFlow represents tensors as '***n-dimensional arrays of base datatypes***'\"\n",
    "* Tensors are a fundamental part of 'TensorFlow' (therefore the name), as Tensors are passed around and manipulated throughout the program. Each tensor represents a partially define computation that will eventually output a value. \n",
    "* Tensorflow programs work by building a graph of Tensor objects that details how tensors are related. Running different parts of this graph allow for different results to be generated.\n",
    "\n",
    "Each tensor has a possible data size and shape.\n",
    "* Think about tensors being more like a 'vector' (i.e. it isn't bound by a specific set of rules or coordinates)\n",
    "* A vector can have infinite dimensions.\n",
    "\n",
    "**Data Types for Tensors:**\n",
    "* float32\n",
    "* int32\n",
    "* string\n",
    "* etc.\n",
    "\n",
    "**Shapes of Tensors:**\n",
    "* Represent the dimension of data"
   ]
  },
  {
   "cell_type": "markdown",
   "metadata": {},
   "source": [
    "# Creating Tensors:\n",
    "Below is an example of creating a Tensor in TensorFlow:"
   ]
  },
  {
   "cell_type": "code",
   "execution_count": 6,
   "metadata": {},
   "outputs": [],
   "source": [
    "import tensorflow as tf #Importing TensorFlow to the session\n",
    "\n",
    "# Examples of a few different data types as Tensors:\n",
    "\n",
    "# General Structure:\n",
    "# [Variable name] = tf.variable([Data], tf.[data-type])\n",
    "\n",
    "string = tf.Variable(\"This is a string\", tf.string)\n",
    "number = tf.Variable(345, tf.int16)\n",
    "floating = tf.Variable(5.376, tf.float64)"
   ]
  },
  {
   "cell_type": "markdown",
   "metadata": {},
   "source": [
    "# Rank/Degree of Tensors\n",
    "  Another word for rank in TensorFlow is degree, and this just signifies the amount of 'dimensions' within the Tensor. The above Tensors are what would be considered as '***rank 0***', which are also referred to as ***scalar*** values.\n",
    "* **Scalar Values:**\n",
    "  * Having one value\n",
    "* **Vector Values:**\n",
    "  * Having multiple values\n",
    "* **Matrices:**\n",
    "  * Having multiple Vectors\n",
    "\n",
    "Rank can be seen within the \n",
    "\n",
    "* In the below examples, I will create some Tensors with multiple dimensions"
   ]
  },
  {
   "cell_type": "code",
   "execution_count": 7,
   "metadata": {},
   "outputs": [],
   "source": [
    "import tensorflow as tf #importing TensorFlow to the session\n",
    "\n",
    "# Examples of a few different Ranks/Degrees of Tensors\n",
    "\n",
    "# General Structure:\n",
    "# [Variable Name] = tf.Variable([[Data1],[Data2]], [[Data3],[Data4]], tf.[data-type])\n",
    "\n",
    "rank1_tensor = tf.Variable([\"Test\"], tf.string)\n",
    "rank2_tensor = tf.Variable([\"Test\", \"Example\"], [\"Hello\", \"World\"], tf.string)"
   ]
  }
 ],
 "metadata": {
  "interpreter": {
   "hash": "e7370f93d1d0cde622a1f8e1c04877d8463912d04d973331ad4851f04de6915a"
  },
  "kernelspec": {
   "display_name": "Python 3.10.1 64-bit",
   "language": "python",
   "name": "python3"
  },
  "language_info": {
   "codemirror_mode": {
    "name": "ipython",
    "version": 3
   },
   "file_extension": ".py",
   "mimetype": "text/x-python",
   "name": "python",
   "nbconvert_exporter": "python",
   "pygments_lexer": "ipython3",
   "version": "3.10.1"
  },
  "orig_nbformat": 4
 },
 "nbformat": 4,
 "nbformat_minor": 2
}
