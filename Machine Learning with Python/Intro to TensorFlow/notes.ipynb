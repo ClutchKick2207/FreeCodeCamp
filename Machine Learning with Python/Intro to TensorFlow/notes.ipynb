{
 "cells": [
  {
   "cell_type": "markdown",
   "metadata": {},
   "source": [
    "# Tensors:\n",
    "* \"A '***tensor***' is a generalisation of vectors and matrices to potentially higher dimensions. Internally, TensorFlow represents tensors as '***n-dimensional arrays of base datatypes***'\n",
    "* Tensors are a fundamental part of 'TensorFlow' (therefore the name), as Tensors are passed around and manipulated throughout the program. Each tensor represents a partially define computation that will eventially output a value. Tensorflow programs work by building a graph of Tensor objects that details how tensors are related. Running different parts of this graph allow for different results to be generated."
   ]
  }
 ],
 "metadata": {
  "interpreter": {
   "hash": "e7370f93d1d0cde622a1f8e1c04877d8463912d04d973331ad4851f04de6915a"
  },
  "kernelspec": {
   "display_name": "Python 3.10.1 64-bit",
   "language": "python",
   "name": "python3"
  },
  "language_info": {
   "name": "python",
   "version": "3.10.1"
  },
  "orig_nbformat": 4
 },
 "nbformat": 4,
 "nbformat_minor": 2
}
