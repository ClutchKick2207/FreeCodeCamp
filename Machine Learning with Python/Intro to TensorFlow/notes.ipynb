{
 "cells": [
  {
   "cell_type": "markdown",
   "metadata": {},
   "source": [
    "# Tensors:\n",
    "  \"A '***tensor***' is a generalisation of vectors and matrices to potentially higher dimensions. Internally, TensorFlow represents tensors as '***n-dimensional arrays of base datatypes***'\"\n",
    "* Tensors are a fundamental part of 'TensorFlow' (therefore the name), as Tensors are passed around and manipulated throughout the program. Each tensor represents a partially define computation that will eventually output a value. \n",
    "* Tensorflow programs work by building a graph of Tensor objects that details how tensors are related. Running different parts of this graph allow for different results to be generated.\n",
    "\n",
    "Each tensor has a possible data size and shape.\n",
    "\n",
    "**Data Types for Tensors:**\n",
    "* float32\n",
    "* int32\n",
    "* string\n",
    "* etc.\n",
    "\n",
    "**Shapes of Tensors:**\n",
    "* Represent the dimension of data"
   ]
  },
  {
   "cell_type": "markdown",
   "metadata": {},
   "source": [
    "# Creating Tensors:\n",
    "Below is an example of creating a Tensor in TensorFlow:"
   ]
  },
  {
   "cell_type": "code",
   "execution_count": 1,
   "metadata": {},
   "outputs": [
    {
     "name": "stderr",
     "output_type": "stream",
     "text": [
      "2022-01-14 20:31:14.140881: W tensorflow/stream_executor/platform/default/dso_loader.cc:64] Could not load dynamic library 'libcudart.so.11.0'; dlerror: libcudart.so.11.0: cannot open shared object file: No such file or directory\n",
      "2022-01-14 20:31:14.140901: I tensorflow/stream_executor/cuda/cudart_stub.cc:29] Ignore above cudart dlerror if you do not have a GPU set up on your machine.\n"
     ]
    }
   ],
   "source": [
    "import tensorflow as tf #Importing TensorFlow to the session\n",
    "\n"
   ]
  }
 ],
 "metadata": {
  "interpreter": {
   "hash": "e7370f93d1d0cde622a1f8e1c04877d8463912d04d973331ad4851f04de6915a"
  },
  "kernelspec": {
   "display_name": "Python 3.10.1 64-bit",
   "language": "python",
   "name": "python3"
  },
  "language_info": {
   "codemirror_mode": {
    "name": "ipython",
    "version": 3
   },
   "file_extension": ".py",
   "mimetype": "text/x-python",
   "name": "python",
   "nbconvert_exporter": "python",
   "pygments_lexer": "ipython3",
   "version": "3.10.1"
  },
  "orig_nbformat": 4
 },
 "nbformat": 4,
 "nbformat_minor": 2
}
