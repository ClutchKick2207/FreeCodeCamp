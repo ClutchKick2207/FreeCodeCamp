{
 "cells": [
  {
   "cell_type": "markdown",
   "metadata": {},
   "source": [
    "# Tensors:\n",
    "  \"A '***tensor***' is a generalisation of vectors and matrices to potentially higher dimensions. Internally, TensorFlow represents tensors as '***n-dimensional arrays of base datatypes***'\"\n",
    "* Tensors are a fundamental part of 'TensorFlow' (therefore the name), as Tensors are passed around and manipulated throughout the program. Each tensor represents a partially define computation that will eventually output a value. \n",
    "* Tensorflow programs work by building a graph of Tensor objects that details how tensors are related. Running different parts of this graph allow for different results to be generated.\n",
    "\n",
    "Each tensor has a possible data size and shape.\n",
    "* Think about tensors being more like a 'vector' (i.e. it isn't bound by a specific set of rules or coordinates)\n",
    "* A vector can have infinite dimensions.\n",
    "\n",
    "**Data Types for Tensors:**\n",
    "* float32\n",
    "* int32\n",
    "* string\n",
    "* etc.\n",
    "\n",
    "**Shapes of Tensors:**\n",
    "* Represent the dimension of data"
   ]
  },
  {
   "cell_type": "markdown",
   "metadata": {},
   "source": [
    "# Creating Tensors:\n",
    "Below is an example of creating a Tensor in TensorFlow:"
   ]
  },
  {
   "cell_type": "code",
   "execution_count": 93,
   "metadata": {},
   "outputs": [],
   "source": [
    "import tensorflow as tf #Importing TensorFlow to the session\n",
    "\n",
    "# Examples of a few different data types as Tensors:\n",
    "\n",
    "# General Structure:\n",
    "# [Variable name] = tf.variable([Data], tf.[data-type])\n",
    "\n",
    "string = tf.Variable(\"This is a string\", tf.string)\n",
    "number = tf.Variable(345, tf.int16)\n",
    "floating = tf.Variable(5.376, tf.float64)"
   ]
  },
  {
   "cell_type": "markdown",
   "metadata": {},
   "source": [
    "# Rank/Degree of Tensors\n",
    "  Another word for rank in TensorFlow is degree, and this just signifies the amount of 'dimensions' within the Tensor. The above Tensors are what would be considered as '***rank 0***', which are also referred to as ***scalar*** values.\n",
    "* **Scalar Values:**\n",
    "  * Having one value\n",
    "* **Vector Values:**\n",
    "  * Having multiple values\n",
    "* **Matrices:**\n",
    "  * Having multiple Vectors\n",
    "\n",
    "Rank can be seen within the square brackets, where you can have as many values as you wish within each one, although 1 ***Rank/Degree*** is just a set of square brackets.\n",
    "\n",
    "Essentially, the more lists you have inside other lists, the more ranks/degrees you have.\n",
    "\n",
    "* In the below examples, I will create some Tensors with multiple dimensions"
   ]
  },
  {
   "cell_type": "code",
   "execution_count": 94,
   "metadata": {},
   "outputs": [],
   "source": [
    "import tensorflow as tf #importing TensorFlow to the session\n",
    "\n",
    "# Examples of a few different Ranks/Degrees of Tensors\n",
    "\n",
    "# General Structure:\n",
    "# [Variable Name] = tf.Variable([[Data1],[Data2]], [[Data3],[Data4]], tf.[data-type])\n",
    "\n",
    "rank1_tensor = tf.Variable([\"Test\", \"Hello, World!\"], tf.string)\n",
    "rank2_tensor = tf.Variable([[\"Test\", \"test\"], [\"Hello,\", \"World\"]], tf.string)"
   ]
  },
  {
   "cell_type": "markdown",
   "metadata": {},
   "source": [
    "# How to determine the rank of a Tensor:\n",
    "You can look at the deepest nested list (how many lists are there going from most nested to the parent), or you can use the command below:"
   ]
  },
  {
   "cell_type": "code",
   "execution_count": 95,
   "metadata": {},
   "outputs": [
    {
     "data": {
      "text/plain": [
       "<tf.Tensor: shape=(), dtype=int32, numpy=2>"
      ]
     },
     "execution_count": 95,
     "metadata": {},
     "output_type": "execute_result"
    }
   ],
   "source": [
    "import tensorflow as tf #importing TensorFlow into the session\n",
    "\n",
    "#Example on how to determine the rank of a tensor:\n",
    "\n",
    "#General Structure:\n",
    "# tf.rank([variable-name])\n",
    "\n",
    "tf.rank(rank2_tensor)\n",
    "#In this example, the 'numpy' field shows the rank of the Tensor"
   ]
  },
  {
   "cell_type": "markdown",
   "metadata": {},
   "source": [
    "# Shape of Tensors:\n",
    "The shape of each tensor is simply the amount of elements in each dimension. TenserFlow will attempt to call the shape of Tensors, although sometimes it can be unknown."
   ]
  },
  {
   "cell_type": "code",
   "execution_count": 96,
   "metadata": {},
   "outputs": [
    {
     "data": {
      "text/plain": [
       "TensorShape([2, 2])"
      ]
     },
     "execution_count": 96,
     "metadata": {},
     "output_type": "execute_result"
    }
   ],
   "source": [
    "import tensorflow as tf #importing TensorFlow into the session\n",
    "\n",
    "#Example on how to determine the shape of a Tensor\n",
    "\n",
    "#General Structure:\n",
    "#[variable-name].shape\n",
    "\n",
    "rank2_tensor.shape\n",
    "#In this example, there are 2 lists, and 2 elements in each of those lists"
   ]
  },
  {
   "cell_type": "markdown",
   "metadata": {},
   "source": [
    "# Changing Shape:\n",
    "You often have to change the shape of a Tensor in TensorFlow. \n",
    "* Many different shapes that can represent the same number of elements.\n",
    "* **Flattening**   \n",
    "  * Getting all the elements from a multi-rank Tensor, and put it in a '***Rank 1***' tensor.\n"
   ]
  },
  {
   "cell_type": "code",
   "execution_count": 97,
   "metadata": {},
   "outputs": [],
   "source": [
    "import tensorflow as tf #Importing TensorFlow into the session\n",
    "\n",
    "tensor1 = tf.ones([1,2,3]) #Make a Tensor with just ones, with a shape of [1,2,3]\n",
    "tensor2 = tf.reshape(tensor1, [2,3,1]) #Reshape the Tensor into the shape [2,3,1]\n",
    "tensor3 = tf.reshape(tensor1, [3, -1]) #-1 infers what the value should be. i.e. 3 lists, where the elements are distributed evenly.\n",
    "                                       # this will reshape the Tensor to [3,2]"
   ]
  },
  {
   "cell_type": "markdown",
   "metadata": {},
   "source": [
    "Now here are the different results from the above:"
   ]
  },
  {
   "cell_type": "code",
   "execution_count": 98,
   "metadata": {},
   "outputs": [
    {
     "name": "stdout",
     "output_type": "stream",
     "text": [
      "Tensor 1:\n",
      "tf.Tensor(\n",
      "[[[1. 1. 1.]\n",
      "  [1. 1. 1.]]], shape=(1, 2, 3), dtype=float32)\n",
      "\n",
      "Tensor 2\n",
      "tf.Tensor(\n",
      "[[[1.]\n",
      "  [1.]\n",
      "  [1.]]\n",
      "\n",
      " [[1.]\n",
      "  [1.]\n",
      "  [1.]]], shape=(2, 3, 1), dtype=float32)\n",
      "\n",
      "Tensor3\n",
      "tf.Tensor(\n",
      "[[1. 1.]\n",
      " [1. 1.]\n",
      " [1. 1.]], shape=(3, 2), dtype=float32)\n"
     ]
    }
   ],
   "source": [
    "print(\"Tensor 1:\")\n",
    "print(tensor1) # 1 interior list, 2 lists inside of that interior list, and 3 objects in each list\n",
    "\n",
    "print(\"\\nTensor 2\")\n",
    "print(tensor2) # 2 interior lists, each with 3 lists within it, and 1 value in each list.\n",
    "\n",
    "print(\"\\nTensor3\") \n",
    "print(tensor3) # 3 lists, each having 2 values"
   ]
  },
  {
   "cell_type": "markdown",
   "metadata": {},
   "source": [
    "# Types of Tensors:\n",
    "There are a large variety of Tensors, although these are the most commonly used:\n",
    "* Variable\n",
    "* Constant\n",
    "* Placeholder\n",
    "* SparseTensor\n",
    "\n",
    "All of these, with the exception of a Variable are immutable (i.e. cannot be changed during the operation of a program)\n",
    "\n",
    "Therefore you should use the ***Variable*** Tensor if you want to change the value during operation."
   ]
  },
  {
   "cell_type": "markdown",
   "metadata": {},
   "source": [
    "# Evaluating Tensors:\n",
    "There will be times where you would need to get the value of a Tensor. As Tensors represent partially computed data, it is sometimes necessary to run a ***session*** to evaluate the data.\n",
    "\n",
    "Here is the simplest way of doing so."
   ]
  },
  {
   "cell_type": "code",
   "execution_count": null,
   "metadata": {},
   "outputs": [],
   "source": [
    "import tensorflow as tf\n",
    "\n",
    "with tf.Session() as sess: # creates a session using the 'default graph'\n",
    "    tensor1.eval() #change the variable name with the variable in question.eval()"
   ]
  },
  {
   "cell_type": "markdown",
   "metadata": {},
   "source": [
    "# Reshaping a Tensor:\n"
   ]
  },
  {
   "cell_type": "code",
   "execution_count": 99,
   "metadata": {},
   "outputs": [
    {
     "name": "stderr",
     "output_type": "stream",
     "text": [
      "UsageError: Line magic function `%tensorflow_version` not found.\n"
     ]
    }
   ],
   "source": [
    "import tensorflow as tf #importing tensorflow into the session\n",
    "print(tf.version)\n",
    "\n",
    "t = tf.zeros([5,5,5,5]) #create a Tensor with all zeros\n",
    "print(t)\n",
    "\n"
   ]
  }
 ],
 "metadata": {
  "interpreter": {
   "hash": "e7370f93d1d0cde622a1f8e1c04877d8463912d04d973331ad4851f04de6915a"
  },
  "kernelspec": {
   "display_name": "Python 3.10.1 64-bit",
   "language": "python",
   "name": "python3"
  },
  "language_info": {
   "codemirror_mode": {
    "name": "ipython",
    "version": 3
   },
   "file_extension": ".py",
   "mimetype": "text/x-python",
   "name": "python",
   "nbconvert_exporter": "python",
   "pygments_lexer": "ipython3",
   "version": "3.10.1"
  },
  "orig_nbformat": 4
 },
 "nbformat": 4,
 "nbformat_minor": 2
}
