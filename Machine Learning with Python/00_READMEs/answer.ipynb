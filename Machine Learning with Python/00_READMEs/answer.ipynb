{
 "cells": [
  {
   "cell_type": "markdown",
   "metadata": {},
   "source": [
    "**Answer to the question, with some reasoning**\n",
    "\n",
    "*Which statement below is **false**?*:\n",
    "* Neural networks are modeled after the way the human brain works.\n",
    "* Computer programs that play tic-tac-toe or chess against human players are examples of simple artificial intelligence.\n",
    "* Machine learning is a subset of artificial intelligence.\n",
    "\n",
    "**Answer**\n",
    "* Neural networks are modeled after the way the human brain works.\n",
    "  * As seen in my notes, neural networks are **NOT** modelled after the human brain, although it may share the same concept."
   ]
  }
 ],
 "metadata": {
  "interpreter": {
   "hash": "e7370f93d1d0cde622a1f8e1c04877d8463912d04d973331ad4851f04de6915a"
  },
  "kernelspec": {
   "display_name": "Python 3.10.1 64-bit",
   "language": "python",
   "name": "python3"
  },
  "language_info": {
   "name": "python",
   "version": "3.10.1"
  },
  "orig_nbformat": 4
 },
 "nbformat": 4,
 "nbformat_minor": 2
}
