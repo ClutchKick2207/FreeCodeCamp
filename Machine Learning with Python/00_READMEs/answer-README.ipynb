{
 "cells": [
  {
   "cell_type": "markdown",
   "metadata": {},
   "source": [
    "# Answer README Guide\n",
    "This document outlines how this entire system will work \n",
    "\n",
    "* Each unit will have it's own folder within the heirarchy\n",
    "* Each folder will include a Jupyter Notebook with notes from each video, and for each question (with how I got to each answer)\n",
    "* Each document will have Markdown document (what you are reading right now) with an explanation, with a Python segment with the rest of the explanation.\n",
    " "
   ]
  },
  {
   "cell_type": "code",
   "execution_count": 3,
   "metadata": {},
   "outputs": [
    {
     "name": "stdout",
     "output_type": "stream",
     "text": [
      "Hello, World!\n",
      "Program is exiting now\n"
     ]
    }
   ],
   "source": [
    "import math\n",
    "\n",
    "x = 1\n",
    "\n",
    "while x == 1:\n",
    "    print('Hello, World!')\n",
    "    x = x + 1\n",
    "    if x == 2:\n",
    "        print('Program is exiting now')\n",
    "        break"
   ]
  }
 ],
 "metadata": {
  "interpreter": {
   "hash": "e7370f93d1d0cde622a1f8e1c04877d8463912d04d973331ad4851f04de6915a"
  },
  "kernelspec": {
   "display_name": "Python 3.10.1 64-bit",
   "language": "python",
   "name": "python3"
  },
  "language_info": {
   "codemirror_mode": {
    "name": "ipython",
    "version": 3
   },
   "file_extension": ".py",
   "mimetype": "text/x-python",
   "name": "python",
   "nbconvert_exporter": "python",
   "pygments_lexer": "ipython3",
   "version": "3.10.1"
  },
  "orig_nbformat": 4
 },
 "nbformat": 4,
 "nbformat_minor": 2
}
