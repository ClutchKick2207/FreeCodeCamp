{
 "cells": [
  {
   "cell_type": "markdown",
   "metadata": {},
   "source": [
    "# Notes for Unit 1\n",
    "This is where I put my notes for the very first unit's video:\n",
    "\n",
    "\n",
    "**Artificial Intelligence vs Neural Networks vs Machine Learning**:\n",
    "* **Artificial Intelligence**\n",
    "  * \"The effort to automate intellectual tasks, normally performed by humans\""
   ]
  }
 ],
 "metadata": {
  "interpreter": {
   "hash": "e7370f93d1d0cde622a1f8e1c04877d8463912d04d973331ad4851f04de6915a"
  },
  "kernelspec": {
   "display_name": "Python 3.10.1 64-bit",
   "language": "python",
   "name": "python3"
  },
  "language_info": {
   "name": "python",
   "version": "3.10.1"
  },
  "orig_nbformat": 4
 },
 "nbformat": 4,
 "nbformat_minor": 2
}
