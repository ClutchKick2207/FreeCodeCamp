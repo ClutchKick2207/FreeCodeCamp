{
 "cells": [
  {
   "cell_type": "markdown",
   "metadata": {},
   "source": [
    "# Notes for Unit 1\n",
    "This is where I put my notes for the very first unit's video:\n",
    "\n",
    "\n",
    "**Artificial Intelligence vs Neural Networks vs Machine Learning**:\n",
    "* **Artificial Intelligence**\n",
    "  * \"The effort to automate intellectual tasks, normally performed by humans\"\n",
    "  * Initially consisted of a pre-defined set of 'rules':\n",
    "    * Examples include common games such as Chess, Tic-Tac-Toe etc.\n",
    "  * 'Very good AI' simply consisted of a 'very good' set of rules, usually being more exhaustive, and taking into account more situations.\n",
    "  * AI has the ability to be both very simple and incredibly complex, depending on how many 'rules' are implemented in the development of the AI\n",
    "  * **__Real World Example__**:\n",
    "    * Pacman with it's ghosts\n",
    "      * The ghosts are pre-programed to attempt to find the shortest possible path to 'Pacman' in order to catch it, although it involves a character with slower movement speed.\n",
    "  \n",
    "  <br>\n",
    "\n",
    "\n",
    "* **Machine Learning**\n",
    "  * \"Machine Learning figures out the 'rules' that AI uses for us\"\n",
    "  * Takes the input given, and the desired outcome to create different rules.\n",
    "    * Takes a lot of samples and training to create the desired outcome reliably\n",
    "  * Main reason that Machine Learning models do not have a 100% accuracy, is due to the more open ended creation of rules (considering that the program makes it themselves)\n",
    "\n",
    "\n",
    "<br>\n",
    "\n",
    "* **Deep Learning/Neural Networks**\n",
    "  * \"A form of Machine Learning that uses a layered representation of data\"\n",
    "  * "
   ]
  }
 ],
 "metadata": {
  "interpreter": {
   "hash": "e7370f93d1d0cde622a1f8e1c04877d8463912d04d973331ad4851f04de6915a"
  },
  "kernelspec": {
   "display_name": "Python 3.10.1 64-bit",
   "language": "python",
   "name": "python3"
  },
  "language_info": {
   "name": "python",
   "version": "3.10.1"
  },
  "orig_nbformat": 4
 },
 "nbformat": 4,
 "nbformat_minor": 2
}
